{
  "nbformat": 4,
  "nbformat_minor": 0,
  "metadata": {
    "colab": {
      "name": "fuzzzzy.ipynb",
      "provenance": [],
      "collapsed_sections": []
    },
    "kernelspec": {
      "name": "python3",
      "display_name": "Python 3"
    },
    "language_info": {
      "name": "python"
    }
  },
  "cells": [
    {
      "cell_type": "code",
      "metadata": {
        "id": "_R8BQ3hqogt8"
      },
      "source": [
        "from fuzzy_system.fuzzy_variable_output import FuzzyOutputVariable\n",
        "from fuzzy_system.fuzzy_variable_input import FuzzyInputVariable\n",
        "from fuzzy_system.fuzzy_system import FuzzySystem"
      ],
      "execution_count": 46,
      "outputs": []
    },
    {
      "cell_type": "code",
      "metadata": {
        "colab": {
          "base_uri": "https://localhost:8080/"
        },
        "id": "iqVIbSOGolFS",
        "outputId": "79808531-2adf-4d78-e71a-b78a7c823265"
      },
      "source": [
        "con_error = FuzzyInputVariable(\"Contour Error\", -6, 6, 100)\n",
        "con_error.add_trapezoidal(\"NL\", -10, -6, -4.5, -3)\n",
        "con_error.add_triangular(\"NM\", -4.5, -3, -1.5)\n",
        "con_error.add_triangular(\"NS\", -3, -1.5, 0)\n",
        "con_error.add_triangular(\"ZR\", -1.5, 0, 1.5)\n",
        "con_error.add_triangular(\"PS\", 0, 1.5, 3)\n",
        "con_error.add_triangular(\"PM\", 1.5, 3, 4.5)\n",
        "con_error.add_trapezoidal(\"PL\", 3, 4.5, 6, 10)\n",
        "\n",
        "con_error_change = FuzzyInputVariable(\"Contour error Change\", -0.9, 0.9, 100)\n",
        "con_error_change.add_trapezoidal(\"NL\", -1, -0.9, -0.675, -0.45)\n",
        "con_error_change.add_triangular(\"NM\", -0.675, -0.45, -0.225)\n",
        "con_error_change.add_triangular(\"NS\", -0.45, -0.225, 0)\n",
        "con_error_change.add_triangular(\"ZR\", -0.225, 0, 0.225)\n",
        "con_error_change.add_triangular(\"PS\", 0, 0.225, 0.45)\n",
        "con_error_change.add_triangular(\"PM\", 0.225, 0.45, 0.675)\n",
        "con_error_change.add_trapezoidal(\"PL\", 0.45, 0.675, 0.9, 1)"
      ],
      "execution_count": 79,
      "outputs": [
        {
          "output_type": "stream",
          "name": "stderr",
          "text": [
            "/content/fuzzy_system/fuzzy_set.py:60: RuntimeWarning: divide by zero encountered in true_divide\n",
            "  t1fs._dom = np.round(np.minimum(np.maximum(np.minimum((t1fs._domain-a)/(b-a), (d-t1fs._domain)/(d-c)), 0), 1), t1fs._precision)\n",
            "/content/fuzzy_system/fuzzy_set.py:60: RuntimeWarning: invalid value encountered in true_divide\n",
            "  t1fs._dom = np.round(np.minimum(np.maximum(np.minimum((t1fs._domain-a)/(b-a), (d-t1fs._domain)/(d-c)), 0), 1), t1fs._precision)\n"
          ]
        },
        {
          "output_type": "execute_result",
          "data": {
            "text/plain": [
              "<fuzzy_system.fuzzy_set.FuzzySet at 0x7f46f5a61390>"
            ]
          },
          "metadata": {},
          "execution_count": 79
        }
      ]
    },
    {
      "cell_type": "code",
      "metadata": {
        "colab": {
          "base_uri": "https://localhost:8080/"
        },
        "id": "oH-2n5dlolOS",
        "outputId": "4cc5ef21-0f3e-4f97-dde3-e555ed73fab4"
      },
      "source": [
        "ctrl_act = FuzzyOutputVariable(\"Control Action\", -61, 61, 100)\n",
        "ctrl_act.add_triangular(\"NL\", -61, -60, -59)\n",
        "ctrl_act.add_triangular(\"NM\", -41, -40, -39)\n",
        "ctrl_act.add_triangular(\"NS\", -21, -20, -19)\n",
        "ctrl_act.add_triangular(\"ZR\", -1, 0, 1)\n",
        "ctrl_act.add_triangular(\"PS\", 19, 20, 21)\n",
        "ctrl_act.add_triangular(\"PM\", 39, 40, 41)\n",
        "ctrl_act.add_triangular(\"PL\", 59, 60, 61)"
      ],
      "execution_count": 80,
      "outputs": [
        {
          "output_type": "execute_result",
          "data": {
            "text/plain": [
              "<fuzzy_system.fuzzy_set.FuzzySet at 0x7f46f5a61f50>"
            ]
          },
          "metadata": {},
          "execution_count": 80
        }
      ]
    },
    {
      "cell_type": "code",
      "metadata": {
        "id": "fKrSIemYolQz"
      },
      "source": [
        "system = FuzzySystem()\n",
        "system.add_input_variable(con_error)\n",
        "system.add_input_variable(con_error_change)\n",
        "system.add_output_variable(ctrl_act)"
      ],
      "execution_count": 81,
      "outputs": []
    },
    {
      "cell_type": "code",
      "metadata": {
        "id": "yyYU1MC5olS8"
      },
      "source": [
        "\n",
        "system.add_rule(\n",
        "\t\t{ 'Contour Error':'NL',\n",
        "\t\t\t'Contour error Change':'NL' },\n",
        "\t\t{ 'Control Action':'NL'})\n",
        "system.add_rule(\n",
        "\t\t{ 'Contour Error':'NL',\n",
        "\t\t\t'Contour error Change':'NM' },\n",
        "\t\t{ 'Control Action':'NL'})\n",
        "system.add_rule(\n",
        "\t\t{ 'Contour Error':'NL',\n",
        "\t\t\t'Contour error Change':'NS' },\n",
        "\t\t{ 'Control Action':'NL'})\n",
        "system.add_rule(\n",
        "\t\t{ 'Contour Error':'NL',\n",
        "\t\t\t'Contour error Change':'ZR' },\n",
        "\t\t{ 'Control Action':'NL'})\n",
        "system.add_rule(\n",
        "\t\t{ 'Contour Error':'NL',\n",
        "\t\t\t'Contour error Change':'PS' },\n",
        "\t\t{ 'Control Action':'NL'})\n",
        "system.add_rule(\n",
        "\t\t{ 'Contour Error':'NL',\n",
        "\t\t\t'Contour error Change':'PM' },\n",
        "\t\t{ 'Control Action':'NL'})\n",
        "system.add_rule(\n",
        "\t\t{ 'Contour Error':'NL',\n",
        "\t\t\t'Contour error Change':'PL' },\n",
        "\t\t{ 'Control Action':'NL'})\n",
        "\n",
        "\n",
        "\n",
        "system.add_rule(\n",
        "\t\t{ 'Contour Error':'NM',\n",
        "\t\t\t'Contour error Change':'NL' },\n",
        "\t\t{ 'Control Action':'NL'})\n",
        "system.add_rule(\n",
        "\t\t{ 'Contour Error':'NM',\n",
        "\t\t\t'Contour error Change':'NM' },\n",
        "\t\t{ 'Control Action':'NL'})\n",
        "system.add_rule(\n",
        "\t\t{ 'Contour Error':'NM',\n",
        "\t\t\t'Contour error Change':'NS' },\n",
        "\t\t{ 'Control Action':'NM'})\n",
        "system.add_rule(\n",
        "\t\t{ 'Contour Error':'NM',\n",
        "\t\t\t'Contour error Change':'ZR' },\n",
        "\t\t{ 'Control Action':'NM'})\n",
        "system.add_rule(\n",
        "\t\t{ 'Contour Error':'NM',\n",
        "\t\t\t'Contour error Change':'PS' },\n",
        "\t\t{ 'Control Action':'NS'})\n",
        "system.add_rule(\n",
        "\t\t{ 'Contour Error':'NM',\n",
        "\t\t\t'Contour error Change':'PM' },\n",
        "\t\t{ 'Control Action':'NS'})\n",
        "system.add_rule(\n",
        "\t\t{ 'Contour Error':'NM',\n",
        "\t\t\t'Contour error Change':'PL' },\n",
        "\t\t{ 'Control Action':'NS'})\n",
        "\n",
        "\n",
        "\n",
        "system.add_rule(\n",
        "\t\t{ 'Contour Error':'NS',\n",
        "\t\t\t'Contour error Change':'NL' },\n",
        "\t\t{ 'Control Action':'NL'})\n",
        "system.add_rule(\n",
        "\t\t{ 'Contour Error':'NS',\n",
        "\t\t\t'Contour error Change':'NM' },\n",
        "\t\t{ 'Control Action':'NM'})\n",
        "system.add_rule(\n",
        "\t\t{ 'Contour Error':'NS',\n",
        "\t\t\t'Contour error Change':'NS' },\n",
        "\t\t{ 'Control Action':'NM'})\n",
        "system.add_rule(\n",
        "\t\t{ 'Contour Error':'NS',\n",
        "\t\t\t'Contour error Change':'ZR' },\n",
        "\t\t{ 'Control Action':'NS'})\n",
        "system.add_rule(\n",
        "\t\t{ 'Contour Error':'NS',\n",
        "\t\t\t'Contour error Change':'PS' },\n",
        "\t\t{ 'Control Action':'NS'})\n",
        "system.add_rule(\n",
        "\t\t{ 'Contour Error':'NS',\n",
        "\t\t\t'Contour error Change':'PM' },\n",
        "\t\t{ 'Control Action':'NS'})\n",
        "system.add_rule(\n",
        "\t\t{ 'Contour Error':'NS',\n",
        "\t\t\t'Contour error Change':'PL' },\n",
        "\t\t{ 'Control Action':'ZR'})\n",
        "\n",
        "\n",
        "\n",
        "system.add_rule(\n",
        "\t\t{ 'Contour Error':'ZR',\n",
        "\t\t\t'Contour error Change':'NL' },\n",
        "\t\t{ 'Control Action':'ZR'})\n",
        "system.add_rule(\n",
        "\t\t{ 'Contour Error':'ZR',\n",
        "\t\t\t'Contour error Change':'NM' },\n",
        "\t\t{ 'Control Action':'ZR'})\n",
        "system.add_rule(\n",
        "\t\t{ 'Contour Error':'ZR',\n",
        "\t\t\t'Contour error Change':'NS' },\n",
        "\t\t{ 'Control Action':'ZR'})\n",
        "system.add_rule(\n",
        "\t\t{ 'Contour Error':'ZR',\n",
        "\t\t\t'Contour error Change':'ZR' },\n",
        "\t\t{ 'Control Action':'ZR'})\n",
        "system.add_rule(\n",
        "\t\t{ 'Contour Error':'ZR',\n",
        "\t\t\t'Contour error Change':'PS' },\n",
        "\t\t{ 'Control Action':'ZR'})\n",
        "system.add_rule(\n",
        "\t\t{ 'Contour Error':'ZR',\n",
        "\t\t\t'Contour error Change':'PM' },\n",
        "\t\t{ 'Control Action':'ZR'})\n",
        "system.add_rule(\n",
        "\t\t{ 'Contour Error':'ZR',\n",
        "\t\t\t'Contour error Change':'PL' },\n",
        "\t\t{ 'Control Action':'ZR'})\n",
        "\n",
        "\n",
        "system.add_rule(\n",
        "\t\t{ 'Contour Error':'PS',\n",
        "\t\t\t'Contour error Change':'NL' },\n",
        "\t\t{ 'Control Action':'ZR'})\n",
        "system.add_rule(\n",
        "\t\t{ 'Contour Error':'PS',\n",
        "\t\t\t'Contour error Change':'NM' },\n",
        "\t\t{ 'Control Action':'PS'})\n",
        "system.add_rule(\n",
        "\t\t{ 'Contour Error':'PS',\n",
        "\t\t\t'Contour error Change':'NS' },\n",
        "\t\t{ 'Control Action':'PS'})\n",
        "system.add_rule(\n",
        "\t\t{ 'Contour Error':'PS',\n",
        "\t\t\t'Contour error Change':'ZR' },\n",
        "\t\t{ 'Control Action':'PS'})\n",
        "system.add_rule(\n",
        "\t\t{ 'Contour Error':'PS',\n",
        "\t\t\t'Contour error Change':'PS' },\n",
        "\t\t{ 'Control Action':'PM'})\n",
        "system.add_rule(\n",
        "\t\t{ 'Contour Error':'PS',\n",
        "\t\t\t'Contour error Change':'PM' },\n",
        "\t\t{ 'Control Action':'PM'})\n",
        "system.add_rule(\n",
        "\t\t{ 'Contour Error':'PS',\n",
        "\t\t\t'Contour error Change':'PL' },\n",
        "\t\t{ 'Control Action':'PL'})\n",
        "\n",
        "\n",
        "\n",
        "system.add_rule(\n",
        "\t\t{ 'Contour Error':'PM',\n",
        "\t\t\t'Contour error Change':'NL' },\n",
        "\t\t{ 'Control Action':'PS'})\n",
        "system.add_rule(\n",
        "\t\t{ 'Contour Error':'PM',\n",
        "\t\t\t'Contour error Change':'NM' },\n",
        "\t\t{ 'Control Action':'PS'})\n",
        "system.add_rule(\n",
        "\t\t{ 'Contour Error':'PM',\n",
        "\t\t\t'Contour error Change':'NS' },\n",
        "\t\t{ 'Control Action':'PS'})\n",
        "system.add_rule(\n",
        "\t\t{ 'Contour Error':'PM',\n",
        "\t\t\t'Contour error Change':'ZR' },\n",
        "\t\t{ 'Control Action':'PM'})\n",
        "system.add_rule(\n",
        "\t\t{ 'Contour Error':'PM',\n",
        "\t\t\t'Contour error Change':'PS' },\n",
        "\t\t{ 'Control Action':'PM'})\n",
        "system.add_rule(\n",
        "\t\t{ 'Contour Error':'PM',\n",
        "\t\t\t'Contour error Change':'PM' },\n",
        "\t\t{ 'Control Action':'PL'})\n",
        "system.add_rule(\n",
        "\t\t{ 'Contour Error':'PM',\n",
        "\t\t\t'Contour error Change':'PL' },\n",
        "\t\t{ 'Control Action':'PL'})\n",
        "\n",
        "\n",
        "\n",
        "system.add_rule(\n",
        "\t\t{ 'Contour Error':'PL',\n",
        "\t\t\t'Contour error Change':'NL' },\n",
        "\t\t{ 'Control Action':'PL'})\n",
        "system.add_rule(\n",
        "\t\t{ 'Contour Error':'PL',\n",
        "\t\t\t'Contour error Change':'NM' },\n",
        "\t\t{ 'Control Action':'PL'})\n",
        "system.add_rule(\n",
        "\t\t{ 'Contour Error':'PL',\n",
        "\t\t\t'Contour error Change':'NS' },\n",
        "\t\t{ 'Control Action':'PL'})\n",
        "system.add_rule(\n",
        "\t\t{ 'Contour Error':'PL',\n",
        "\t\t\t'Contour error Change':'ZR' },\n",
        "\t\t{ 'Control Action':'PL'})\n",
        "system.add_rule(\n",
        "\t\t{ 'Contour Error':'PL',\n",
        "\t\t\t'Contour error Change':'PS' },\n",
        "\t\t{ 'Control Action':'PL'})\n",
        "system.add_rule(\n",
        "\t\t{ 'Contour Error':'PL',\n",
        "\t\t\t'Contour error Change':'PM' },\n",
        "\t\t{ 'Control Action':'PL'})\n",
        "system.add_rule(\n",
        "\t\t{ 'Contour Error':'PL',\n",
        "\t\t\t'Contour error Change':'PL' },\n",
        "\t\t{ 'Control Action':'PL'})"
      ],
      "execution_count": 82,
      "outputs": []
    },
    {
      "cell_type": "code",
      "metadata": {
        "colab": {
          "base_uri": "https://localhost:8080/"
        },
        "id": "zajKbTSGolVD",
        "outputId": "40a82a47-d0d2-4f2b-9ba5-927384fe75e1"
      },
      "source": [
        "result = system.evaluate_output({\n",
        "\t\t\t\t'Contour Error':2,\n",
        "\t\t\t\t'Contour error Change':0.2 })\n",
        "\n",
        "print(f\"\\nControl Action is: {round(result['Control Action'], 3)}\")"
      ],
      "execution_count": 83,
      "outputs": [
        {
          "output_type": "stream",
          "name": "stdout",
          "text": [
            "\n",
            "Control Action is: 37.868\n"
          ]
        }
      ]
    },
    {
      "cell_type": "code",
      "metadata": {
        "colab": {
          "base_uri": "https://localhost:8080/",
          "height": 332
        },
        "id": "qni8J17FolZN",
        "outputId": "154cd65c-dc52-4aaa-f86c-e2a017ac4f62"
      },
      "source": [
        "system.plot_system()"
      ],
      "execution_count": 68,
      "outputs": [
        {
          "output_type": "display_data",
          "data": {
            "image/png": "[encoded data removed]",
            "text/plain": [
              "<Figure size 432x288 with 3 Axes>"
            ]
          },
          "metadata": {
            "needs_background": "light"
          }
        }
      ]
    },
    {
      "cell_type": "code",
      "metadata": {
        "id": "PzEWkw5eoln_"
      },
      "source": [
        ""
      ],
      "execution_count": null,
      "outputs": []
    }
  ]
}